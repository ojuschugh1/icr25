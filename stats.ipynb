{
 "cells": [
  {
   "cell_type": "code",
   "execution_count": 1,
   "metadata": {},
   "outputs": [
    {
     "name": "stdout",
     "output_type": "stream",
     "text": [
      "Arrays in the .npz file:\n",
      "Array name: 'node_feat'\n",
      "Array name: 'edge_index'\n",
      "Array name: 'num_nodes_list'\n",
      "Array name: 'num_edges_list'\n",
      "Array name: 'node_year'\n"
     ]
    }
   ],
   "source": [
    "import numpy as np\n",
    "\n",
    "# Path to the .npz file\n",
    "npz_file_path = 'C:/Users/ojus/Pictures/icr2025/papers100M-bin/raw/data.npz'\n",
    "\n",
    "# Load the .npz file and inspect the contents\n",
    "with np.load(npz_file_path, allow_pickle=True) as data:\n",
    "    print(\"Arrays in the .npz file:\")\n",
    "    for array_name in data.files:\n",
    "        print(f\"Array name: '{array_name}'\")\n"
   ]
  },
  {
   "cell_type": "code",
   "execution_count": 2,
   "metadata": {},
   "outputs": [
    {
     "name": "stdout",
     "output_type": "stream",
     "text": [
      "Skipping array 'node_feat' due to size.\n",
      "Processing array 'edge_index'...\n",
      "Processing array 'num_nodes_list'...\n",
      "Processing array 'num_edges_list'...\n",
      "Processing array 'node_year'...\n",
      "Size of the .npz file: 57118.71 MB\n",
      "Mean value of entries in processable arrays: 43484701.77\n"
     ]
    }
   ],
   "source": [
    "import os\n",
    "import numpy as np\n",
    "\n",
    "# Define the path to the .npz file\n",
    "npz_file_path = 'C:/Users/ojus/Pictures/icr2025/papers100M-bin/raw/data.npz'\n",
    "\n",
    "# Function to calculate the size of the .npz file in MB\n",
    "def calculate_size_in_mb(file_path):\n",
    "    file_size = os.path.getsize(file_path)\n",
    "    return file_size / (1024 * 1024)  # Convert to MB\n",
    "\n",
    "# Function to process arrays\n",
    "def process_array(array_name, file_path):\n",
    "    total_entries = 0\n",
    "    total_sum = 0\n",
    "\n",
    "    with np.load(file_path, allow_pickle=True) as data:\n",
    "        array = data[array_name]\n",
    "        total_entries = array.size\n",
    "        \n",
    "        # Assuming these arrays may contain numerical data for summation\n",
    "        total_sum = np.sum(array)\n",
    "\n",
    "    return total_sum, total_entries\n",
    "\n",
    "# Function to calculate stats for the remaining arrays\n",
    "def calculate_stats_in_npz(file_path):\n",
    "    total_sum = 0\n",
    "    total_entries = 0\n",
    "\n",
    "    try:\n",
    "        with np.load(file_path, allow_pickle=True) as data:\n",
    "            for array_name in data.files:\n",
    "                if array_name == 'node_feat':\n",
    "                    print(f\"Skipping array '{array_name}' due to size.\")\n",
    "                    continue\n",
    "                \n",
    "                print(f\"Processing array '{array_name}'...\")\n",
    "                array_sum, entries = process_array(array_name, file_path)\n",
    "                total_sum += array_sum\n",
    "                total_entries += entries\n",
    "    except MemoryError:\n",
    "        print(\"MemoryError: Could not process large array in .npz file.\")\n",
    "\n",
    "    return total_sum, total_entries\n",
    "\n",
    "# Calculate the size in MB of the .npz file\n",
    "size_in_mb = calculate_size_in_mb(npz_file_path)\n",
    "\n",
    "# Calculate stats for the remaining arrays\n",
    "total_sum, total_entries = calculate_stats_in_npz(npz_file_path)\n",
    "\n",
    "if total_entries > 0:\n",
    "    mean_value = total_sum / total_entries\n",
    "else:\n",
    "    mean_value = 0\n",
    "\n",
    "print(f\"Size of the .npz file: {size_in_mb:.2f} MB\")\n",
    "print(f\"Mean value of entries in processable arrays: {mean_value:.2f}\")\n"
   ]
  },
  {
   "cell_type": "code",
   "execution_count": 31,
   "metadata": {},
   "outputs": [
    {
     "name": "stdout",
     "output_type": "stream",
     "text": [
      "Train Mean: 48483348.9312165, Train File Size: 10.48 MB\n",
      "Test Mean: 106366818.33732702, Test File Size: 2.04 MB\n",
      "Validate Mean: 91249065.8791522, Validate File Size: 1.12 MB\n"
     ]
    }
   ],
   "source": [
    "import pandas as pd\n",
    "import os\n",
    "\n",
    "# File paths\n",
    "train_csv = 'C:/Users/ojus/Pictures/icr2025/papers100M-bin/split/time/train.csv'\n",
    "test_csv = 'C:/Users/ojus/Pictures/icr2025/papers100M-bin/split/time/test.csv'\n",
    "validate_csv = 'C:/Users/ojus/Pictures/icr2025/papers100M-bin/split/time/valid.csv'\n",
    "\n",
    "# Function to calculate mean value from a single-column CSV\n",
    "def calculate_mean(file_path):\n",
    "    chunk_size = 10**6\n",
    "    total_sum = 0\n",
    "    total_count = 0\n",
    "    \n",
    "    for chunk in pd.read_csv(file_path, header=None, chunksize=chunk_size):\n",
    "        total_sum += chunk[0].sum()\n",
    "        total_count += chunk[0].count()\n",
    "    \n",
    "    return total_sum / total_count if total_count > 0 else 0\n",
    "\n",
    "# Function to get file size in MB\n",
    "def get_file_size_mb(file_path):\n",
    "    return os.path.getsize(file_path) / (1024 * 1024)  # Convert bytes to MB\n",
    "\n",
    "# Calculate means and sizes\n",
    "train_mean = calculate_mean(train_csv)\n",
    "train_size_mb = get_file_size_mb(train_csv)\n",
    "\n",
    "test_mean = calculate_mean(test_csv)\n",
    "test_size_mb = get_file_size_mb(test_csv)\n",
    "\n",
    "validate_mean = calculate_mean(validate_csv)\n",
    "validate_size_mb = get_file_size_mb(validate_csv)\n",
    "\n",
    "# Print results\n",
    "print(f\"Train Mean: {train_mean}, Train File Size: {train_size_mb:.2f} MB\")\n",
    "print(f\"Test Mean: {test_mean}, Test File Size: {test_size_mb:.2f} MB\")\n",
    "print(f\"Validate Mean: {validate_mean}, Validate File Size: {validate_size_mb:.2f} MB\")\n"
   ]
  }
 ],
 "metadata": {
  "kernelspec": {
   "display_name": "Python 3",
   "language": "python",
   "name": "python3"
  },
  "language_info": {
   "codemirror_mode": {
    "name": "ipython",
    "version": 3
   },
   "file_extension": ".py",
   "mimetype": "text/x-python",
   "name": "python",
   "nbconvert_exporter": "python",
   "pygments_lexer": "ipython3",
   "version": "3.10.0"
  }
 },
 "nbformat": 4,
 "nbformat_minor": 2
}
